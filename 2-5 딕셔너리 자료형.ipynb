{
 "cells": [
  {
   "cell_type": "code",
   "execution_count": 1,
   "id": "f086e721",
   "metadata": {},
   "outputs": [],
   "source": [
    "dic = {'name':'pey', 'phone':'0119993323', 'birth': '1118'} #딕셔너리의 개념 정리"
   ]
  },
  {
   "cell_type": "code",
   "execution_count": 2,
   "id": "72ca8c32",
   "metadata": {},
   "outputs": [],
   "source": [
    "a = {1: 'hi'}"
   ]
  },
  {
   "cell_type": "code",
   "execution_count": 3,
   "id": "fbc227c6",
   "metadata": {},
   "outputs": [],
   "source": [
    "a = {'a': [1,2,3]}"
   ]
  },
  {
   "cell_type": "code",
   "execution_count": 4,
   "id": "0553b3ca",
   "metadata": {},
   "outputs": [],
   "source": [
    "a = {1: 'a'} #딕셔너리 쌍 추가하기"
   ]
  },
  {
   "cell_type": "code",
   "execution_count": 5,
   "id": "4a252e86",
   "metadata": {},
   "outputs": [],
   "source": [
    "a[2] = 'b' # ← {2:'b'} 쌍 추가"
   ]
  },
  {
   "cell_type": "code",
   "execution_count": 6,
   "id": "46abf7b2",
   "metadata": {},
   "outputs": [
    {
     "data": {
      "text/plain": [
       "{1: 'a', 2: 'b'}"
      ]
     },
     "execution_count": 6,
     "metadata": {},
     "output_type": "execute_result"
    }
   ],
   "source": [
    "a # 결과"
   ]
  },
  {
   "cell_type": "code",
   "execution_count": 28,
   "id": "7faf0dd6",
   "metadata": {},
   "outputs": [],
   "source": [
    "a = {1: 'hi'}"
   ]
  },
  {
   "cell_type": "code",
   "execution_count": 29,
   "id": "16ed8246",
   "metadata": {},
   "outputs": [],
   "source": [
    "a = {'a':[1,2,3]}"
   ]
  },
  {
   "cell_type": "code",
   "execution_count": 30,
   "id": "d55fe4b3",
   "metadata": {},
   "outputs": [
    {
     "data": {
      "text/plain": [
       "{'a': [1, 2, 3]}"
      ]
     },
     "execution_count": 30,
     "metadata": {},
     "output_type": "execute_result"
    }
   ],
   "source": [
    "a"
   ]
  },
  {
   "cell_type": "code",
   "execution_count": 31,
   "id": "dee30b96",
   "metadata": {},
   "outputs": [],
   "source": [
    "a = {1: 'a'}"
   ]
  },
  {
   "cell_type": "code",
   "execution_count": 32,
   "id": "9fa6659a",
   "metadata": {},
   "outputs": [],
   "source": [
    "a[2] = 'b'"
   ]
  },
  {
   "cell_type": "code",
   "execution_count": 33,
   "id": "f2360e34",
   "metadata": {},
   "outputs": [
    {
     "data": {
      "text/plain": [
       "{1: 'a', 2: 'b'}"
      ]
     },
     "execution_count": 33,
     "metadata": {},
     "output_type": "execute_result"
    }
   ],
   "source": [
    "a"
   ]
  },
  {
   "cell_type": "code",
   "execution_count": 34,
   "id": "a34c2e85",
   "metadata": {},
   "outputs": [],
   "source": [
    "a['name'] = 'pey' # ←{'name':'pey'쌍 추가}"
   ]
  },
  {
   "cell_type": "code",
   "execution_count": 35,
   "id": "00e32749",
   "metadata": {
    "scrolled": true
   },
   "outputs": [
    {
     "data": {
      "text/plain": [
       "{1: 'a', 2: 'b', 'name': 'pey'}"
      ]
     },
     "execution_count": 35,
     "metadata": {},
     "output_type": "execute_result"
    }
   ],
   "source": [
    "a #결과"
   ]
  },
  {
   "cell_type": "code",
   "execution_count": 36,
   "id": "78fc9032",
   "metadata": {},
   "outputs": [],
   "source": [
    "a[3] = '[1, 2, 3]' # ←{3:[1, 2, 3]}쌍 추가"
   ]
  },
  {
   "cell_type": "code",
   "execution_count": 37,
   "id": "f7b14a4d",
   "metadata": {
    "scrolled": true
   },
   "outputs": [
    {
     "data": {
      "text/plain": [
       "{1: 'a', 2: 'b', 'name': 'pey', 3: '[1, 2, 3]'}"
      ]
     },
     "execution_count": 37,
     "metadata": {},
     "output_type": "execute_result"
    }
   ],
   "source": [
    "a # 결과"
   ]
  },
  {
   "cell_type": "code",
   "execution_count": 38,
   "id": "9a6590b0",
   "metadata": {},
   "outputs": [],
   "source": [
    "del a[1] # ←key가 1인 key:value 쌍 삭제"
   ]
  },
  {
   "cell_type": "code",
   "execution_count": 39,
   "id": "27a44f30",
   "metadata": {},
   "outputs": [
    {
     "data": {
      "text/plain": [
       "{2: 'b', 'name': 'pey', 3: '[1, 2, 3]'}"
      ]
     },
     "execution_count": 39,
     "metadata": {},
     "output_type": "execute_result"
    }
   ],
   "source": [
    "a # 결과"
   ]
  },
  {
   "cell_type": "code",
   "execution_count": 32,
   "id": "d3fbdd21",
   "metadata": {},
   "outputs": [],
   "source": [
    "del a['name'] # ←key가 'name'인 key:value 쌍 삭제"
   ]
  },
  {
   "cell_type": "code",
   "execution_count": 33,
   "id": "cc3cb3ea",
   "metadata": {},
   "outputs": [
    {
     "data": {
      "text/plain": [
       "{2: 'b', 3: '[1, 2, 3]'}"
      ]
     },
     "execution_count": 33,
     "metadata": {},
     "output_type": "execute_result"
    }
   ],
   "source": [
    "a # 결과"
   ]
  },
  {
   "cell_type": "code",
   "execution_count": 1,
   "id": "27cdda75",
   "metadata": {},
   "outputs": [],
   "source": [
    "grade = {'pey': 10, 'julliet': 99} #딕셔너리에서 Key를 사용해 Value얻기"
   ]
  },
  {
   "cell_type": "code",
   "execution_count": 2,
   "id": "895edb7f",
   "metadata": {},
   "outputs": [
    {
     "data": {
      "text/plain": [
       "10"
      ]
     },
     "execution_count": 2,
     "metadata": {},
     "output_type": "execute_result"
    }
   ],
   "source": [
    "grade['pey'] # ←Key가 'pey'인 딕셔너리의 Value를 반환"
   ]
  },
  {
   "cell_type": "code",
   "execution_count": 3,
   "id": "95e30b12",
   "metadata": {},
   "outputs": [
    {
     "data": {
      "text/plain": [
       "99"
      ]
     },
     "execution_count": 3,
     "metadata": {},
     "output_type": "execute_result"
    }
   ],
   "source": [
    "grade['julliet'] # ←Key가 'julliet'인 딕셔너리의 Value를 반환"
   ]
  },
  {
   "cell_type": "code",
   "execution_count": 13,
   "id": "b6d7c443",
   "metadata": {},
   "outputs": [],
   "source": [
    "a = {1:'a', 2:'b'} # 추가 예시"
   ]
  },
  {
   "cell_type": "code",
   "execution_count": 14,
   "id": "17e9b67c",
   "metadata": {},
   "outputs": [
    {
     "data": {
      "text/plain": [
       "'a'"
      ]
     },
     "execution_count": 14,
     "metadata": {},
     "output_type": "execute_result"
    }
   ],
   "source": [
    "a[1] # ←Key가 1인 요소의 Value를 반환"
   ]
  },
  {
   "cell_type": "code",
   "execution_count": 15,
   "id": "86847381",
   "metadata": {},
   "outputs": [
    {
     "data": {
      "text/plain": [
       "'b'"
      ]
     },
     "execution_count": 15,
     "metadata": {},
     "output_type": "execute_result"
    }
   ],
   "source": [
    "a[2] # ←Key가 2인 요소의 Value를 반환"
   ]
  },
  {
   "cell_type": "code",
   "execution_count": 16,
   "id": "27d58464",
   "metadata": {},
   "outputs": [
    {
     "data": {
      "text/plain": [
       "{1: 'a', 2: 'b'}"
      ]
     },
     "execution_count": 16,
     "metadata": {},
     "output_type": "execute_result"
    }
   ],
   "source": [
    "a"
   ]
  },
  {
   "cell_type": "code",
   "execution_count": 17,
   "id": "779731d4",
   "metadata": {},
   "outputs": [],
   "source": [
    "a = {'a': 1, 'b': 2}"
   ]
  },
  {
   "cell_type": "code",
   "execution_count": 18,
   "id": "a5917326",
   "metadata": {},
   "outputs": [
    {
     "data": {
      "text/plain": [
       "1"
      ]
     },
     "execution_count": 18,
     "metadata": {},
     "output_type": "execute_result"
    }
   ],
   "source": [
    "a['a']"
   ]
  },
  {
   "cell_type": "code",
   "execution_count": 19,
   "id": "7997591e",
   "metadata": {},
   "outputs": [
    {
     "data": {
      "text/plain": [
       "2"
      ]
     },
     "execution_count": 19,
     "metadata": {},
     "output_type": "execute_result"
    }
   ],
   "source": [
    "a['b']"
   ]
  },
  {
   "cell_type": "code",
   "execution_count": 21,
   "id": "ea28ccf8",
   "metadata": {},
   "outputs": [],
   "source": [
    "dic = {'name':'pey', 'phone':'0119993323', 'birth':'1118'}"
   ]
  },
  {
   "cell_type": "code",
   "execution_count": 22,
   "id": "32378b4d",
   "metadata": {},
   "outputs": [
    {
     "data": {
      "text/plain": [
       "'pey'"
      ]
     },
     "execution_count": 22,
     "metadata": {},
     "output_type": "execute_result"
    }
   ],
   "source": [
    "dic ['name']"
   ]
  },
  {
   "cell_type": "code",
   "execution_count": 42,
   "id": "886ee2f0",
   "metadata": {
    "scrolled": false
   },
   "outputs": [
    {
     "data": {
      "text/plain": [
       "'0119993323'"
      ]
     },
     "execution_count": 42,
     "metadata": {},
     "output_type": "execute_result"
    }
   ],
   "source": [
    "dic ['phone']"
   ]
  },
  {
   "cell_type": "code",
   "execution_count": 40,
   "id": "f8df6f72",
   "metadata": {},
   "outputs": [],
   "source": [
    "a = {1:'a', 1:'b'} # ←1이라는 Key 값이 중복으로 사용"
   ]
  },
  {
   "cell_type": "code",
   "execution_count": 41,
   "id": "d0454ace",
   "metadata": {},
   "outputs": [
    {
     "data": {
      "text/plain": [
       "{1: 'b'}"
      ]
     },
     "execution_count": 41,
     "metadata": {},
     "output_type": "execute_result"
    }
   ],
   "source": [
    "a # ←1:'a' 쌍이 무시됨"
   ]
  },
  {
   "cell_type": "code",
   "execution_count": 44,
   "id": "2e29714d",
   "metadata": {},
   "outputs": [
    {
     "ename": "TypeError",
     "evalue": "unhashable type: 'list'",
     "output_type": "error",
     "traceback": [
      "\u001b[1;31m---------------------------------------------------------------------------\u001b[0m",
      "\u001b[1;31mTypeError\u001b[0m                                 Traceback (most recent call last)",
      "\u001b[1;32m~\\AppData\\Local\\Temp/ipykernel_1964/745278619.py\u001b[0m in \u001b[0;36m<module>\u001b[1;34m\u001b[0m\n\u001b[1;32m----> 1\u001b[1;33m \u001b[0ma\u001b[0m \u001b[1;33m=\u001b[0m \u001b[1;33m{\u001b[0m\u001b[1;33m[\u001b[0m\u001b[1;36m1\u001b[0m\u001b[1;33m,\u001b[0m\u001b[1;36m2\u001b[0m\u001b[1;33m]\u001b[0m \u001b[1;33m:\u001b[0m \u001b[1;34m'hi'\u001b[0m\u001b[1;33m}\u001b[0m \u001b[1;31m# 리스트를 Key로 사용 *딕셔너리의 Key값으로 딕셔너리 사용 불가!\u001b[0m\u001b[1;33m\u001b[0m\u001b[1;33m\u001b[0m\u001b[0m\n\u001b[0m",
      "\u001b[1;31mTypeError\u001b[0m: unhashable type: 'list'"
     ]
    }
   ],
   "source": [
    "a = {[1,2] : 'hi'} # 리스트를 Key로 사용 *딕셔너리의 Key값으로 딕셔너리 사용 불가! "
   ]
  },
  {
   "cell_type": "code",
   "execution_count": 45,
   "id": "f51bd778",
   "metadata": {},
   "outputs": [],
   "source": [
    "a = {'name':'pey', 'phone':'0119993323', 'birth':'1118'} # Key 리스트 만들기(keys)"
   ]
  },
  {
   "cell_type": "code",
   "execution_count": 46,
   "id": "5ff7af46",
   "metadata": {},
   "outputs": [
    {
     "data": {
      "text/plain": [
       "dict_keys(['name', 'phone', 'birth'])"
      ]
     },
     "execution_count": 46,
     "metadata": {},
     "output_type": "execute_result"
    }
   ],
   "source": [
    "a.keys() # a.keys()는 딕셔너리의 a의 Key만을 모아서 dict_keys 객체를 돌려줌"
   ]
  },
  {
   "cell_type": "code",
   "execution_count": 51,
   "id": "d1972faf",
   "metadata": {},
   "outputs": [
    {
     "name": "stdout",
     "output_type": "stream",
     "text": [
      "name\n",
      "phone\n",
      "birth\n"
     ]
    }
   ],
   "source": [
    "for k in a.keys(): # print(k)를 입력할 때 들여쓰기를 안하면 오류 발생!!\n",
    "    print(k)"
   ]
  },
  {
   "cell_type": "code",
   "execution_count": 52,
   "id": "a75bcd64",
   "metadata": {},
   "outputs": [
    {
     "data": {
      "text/plain": [
       "['name', 'phone', 'birth']"
      ]
     },
     "execution_count": 52,
     "metadata": {},
     "output_type": "execute_result"
    }
   ],
   "source": [
    "list(a.keys()) # dict_keys 객체를 리스트로 변환"
   ]
  },
  {
   "cell_type": "code",
   "execution_count": 53,
   "id": "9fac2d29",
   "metadata": {},
   "outputs": [
    {
     "data": {
      "text/plain": [
       "dict_values(['pey', '0119993323', '1118'])"
      ]
     },
     "execution_count": 53,
     "metadata": {},
     "output_type": "execute_result"
    }
   ],
   "source": [
    "a.values() # Value 리스트 만들기"
   ]
  },
  {
   "cell_type": "code",
   "execution_count": 55,
   "id": "a3fef207",
   "metadata": {},
   "outputs": [
    {
     "name": "stdout",
     "output_type": "stream",
     "text": [
      "pey\n",
      "0119993323\n",
      "1118\n"
     ]
    }
   ],
   "source": [
    "for v in a.values(): # key를 얻는 것과 마찬가지\n",
    "    print(v)"
   ]
  },
  {
   "cell_type": "code",
   "execution_count": 56,
   "id": "3544e835",
   "metadata": {},
   "outputs": [
    {
     "data": {
      "text/plain": [
       "dict_items([('name', 'pey'), ('phone', '0119993323'), ('birth', '1118')])"
      ]
     },
     "execution_count": 56,
     "metadata": {},
     "output_type": "execute_result"
    }
   ],
   "source": [
    "a.items() # key, Value 쌍 얻기(items)"
   ]
  },
  {
   "cell_type": "code",
   "execution_count": 57,
   "id": "4657fb19",
   "metadata": {},
   "outputs": [],
   "source": [
    "a.clear() # Key:Value 쌍 모두 지우기(clear)"
   ]
  },
  {
   "cell_type": "code",
   "execution_count": 59,
   "id": "a40d8240",
   "metadata": {},
   "outputs": [
    {
     "data": {
      "text/plain": [
       "{}"
      ]
     },
     "execution_count": 59,
     "metadata": {},
     "output_type": "execute_result"
    }
   ],
   "source": [
    "a # 결과"
   ]
  },
  {
   "cell_type": "code",
   "execution_count": 63,
   "id": "e905f591",
   "metadata": {},
   "outputs": [],
   "source": [
    "a = {'name':'Hyeondo', 'phone':'010xxxxxxxx', 'birth':'0501'} # Key로 Value얻기(get)"
   ]
  },
  {
   "cell_type": "code",
   "execution_count": 64,
   "id": "180f8fcd",
   "metadata": {},
   "outputs": [
    {
     "data": {
      "text/plain": [
       "'Hyeondo'"
      ]
     },
     "execution_count": 64,
     "metadata": {},
     "output_type": "execute_result"
    }
   ],
   "source": [
    "a.get('name') # 결과"
   ]
  },
  {
   "cell_type": "code",
   "execution_count": 65,
   "id": "ece5ac8c",
   "metadata": {},
   "outputs": [
    {
     "data": {
      "text/plain": [
       "'010xxxxxxxx'"
      ]
     },
     "execution_count": 65,
     "metadata": {},
     "output_type": "execute_result"
    }
   ],
   "source": [
    "a.get('phone')"
   ]
  },
  {
   "cell_type": "code",
   "execution_count": 66,
   "id": "d7c0faf7",
   "metadata": {},
   "outputs": [],
   "source": [
    "a = {'name':'Hyeondo', 'phone':'010xxxxxxxx', 'birth':'0501'}"
   ]
  },
  {
   "cell_type": "code",
   "execution_count": 67,
   "id": "3a1df598",
   "metadata": {},
   "outputs": [
    {
     "name": "stdout",
     "output_type": "stream",
     "text": [
      "None\n"
     ]
    }
   ],
   "source": [
    "print(a.get('nokey')) # None을 리턴함"
   ]
  },
  {
   "cell_type": "code",
   "execution_count": 68,
   "id": "49199c4c",
   "metadata": {},
   "outputs": [
    {
     "ename": "KeyError",
     "evalue": "'nokey'",
     "output_type": "error",
     "traceback": [
      "\u001b[1;31m---------------------------------------------------------------------------\u001b[0m",
      "\u001b[1;31mKeyError\u001b[0m                                  Traceback (most recent call last)",
      "\u001b[1;32m~\\AppData\\Local\\Temp/ipykernel_1964/3724398629.py\u001b[0m in \u001b[0;36m<module>\u001b[1;34m\u001b[0m\n\u001b[1;32m----> 1\u001b[1;33m \u001b[0mprint\u001b[0m\u001b[1;33m(\u001b[0m\u001b[0ma\u001b[0m\u001b[1;33m[\u001b[0m\u001b[1;34m'nokey'\u001b[0m\u001b[1;33m]\u001b[0m\u001b[1;33m)\u001b[0m\u001b[1;33m\u001b[0m\u001b[1;33m\u001b[0m\u001b[0m\n\u001b[0m",
      "\u001b[1;31mKeyError\u001b[0m: 'nokey'"
     ]
    }
   ],
   "source": [
    "print(a['nokey'])"
   ]
  },
  {
   "cell_type": "code",
   "execution_count": 70,
   "id": "81d34e13",
   "metadata": {},
   "outputs": [
    {
     "data": {
      "text/plain": [
       "'bar'"
      ]
     },
     "execution_count": 70,
     "metadata": {},
     "output_type": "execute_result"
    }
   ],
   "source": [
    "a.get('foo', 'bar')     # 딕셔너리 안에 찾는 key값이 없으면 get(x, '디폴트 값')을 사용하면 편리함\n",
    "                        # a 딕셔너리에 'foo'에 해당하는 값이 없어 디폴트 값인 'bar'을 돌려줌"
   ]
  },
  {
   "cell_type": "code",
   "execution_count": 72,
   "id": "92814a19",
   "metadata": {},
   "outputs": [],
   "source": [
    "a = {'name':'Hyeondo', 'phone':'010xxxxxxxx', 'birth':'0501'} # Key가 딕셔너리 안에 있는지 조사하기(in)"
   ]
  },
  {
   "cell_type": "code",
   "execution_count": 73,
   "id": "c56eac35",
   "metadata": {},
   "outputs": [
    {
     "data": {
      "text/plain": [
       "True"
      ]
     },
     "execution_count": 73,
     "metadata": {},
     "output_type": "execute_result"
    }
   ],
   "source": [
    "'name' in a  # Key 'name'이 딕셔너리 안에 있는지 조사"
   ]
  },
  {
   "cell_type": "code",
   "execution_count": 75,
   "id": "f1d0e549",
   "metadata": {},
   "outputs": [
    {
     "data": {
      "text/plain": [
       "False"
      ]
     },
     "execution_count": 75,
     "metadata": {},
     "output_type": "execute_result"
    }
   ],
   "source": [
    "'email' in a"
   ]
  },
  {
   "cell_type": "code",
   "execution_count": 76,
   "id": "6e89d4f8",
   "metadata": {},
   "outputs": [],
   "source": [
    "dic = {'name':'홍길동', 'birth':'1128', 'age':'30'} # 나 혼자 해보기"
   ]
  },
  {
   "cell_type": "code",
   "execution_count": 77,
   "id": "8c538cec",
   "metadata": {},
   "outputs": [
    {
     "data": {
      "text/plain": [
       "{'name': '홍길동', 'birth': '1128', 'age': '30'}"
      ]
     },
     "execution_count": 77,
     "metadata": {},
     "output_type": "execute_result"
    }
   ],
   "source": [
    "dic # 결과"
   ]
  }
 ],
 "metadata": {
  "kernelspec": {
   "display_name": "Python 3 (ipykernel)",
   "language": "python",
   "name": "python3"
  },
  "language_info": {
   "codemirror_mode": {
    "name": "ipython",
    "version": 3
   },
   "file_extension": ".py",
   "mimetype": "text/x-python",
   "name": "python",
   "nbconvert_exporter": "python",
   "pygments_lexer": "ipython3",
   "version": "3.9.7"
  }
 },
 "nbformat": 4,
 "nbformat_minor": 5
}
