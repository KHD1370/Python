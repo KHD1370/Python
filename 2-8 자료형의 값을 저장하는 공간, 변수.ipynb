{
 "cells": [
  {
   "cell_type": "code",
   "execution_count": 1,
   "id": "dd72f758",
   "metadata": {},
   "outputs": [],
   "source": [
    "a = 1"
   ]
  },
  {
   "cell_type": "code",
   "execution_count": 2,
   "id": "4f34c63d",
   "metadata": {},
   "outputs": [],
   "source": [
    "b = \"python\""
   ]
  },
  {
   "cell_type": "code",
   "execution_count": 3,
   "id": "c282906e",
   "metadata": {},
   "outputs": [],
   "source": [
    "c = [1,2,3]"
   ]
  },
  {
   "cell_type": "code",
   "execution_count": 4,
   "id": "f1bc6e01",
   "metadata": {},
   "outputs": [],
   "source": [
    "a = [1, 2, 3] # 메모리란 컴퓨터가 프로그램에서 사용하는 데이터를 기억하는 공간"
   ]
  },
  {
   "cell_type": "code",
   "execution_count": 5,
   "id": "92c5fe5c",
   "metadata": {},
   "outputs": [],
   "source": [
    "a = [1, 2, 3]"
   ]
  },
  {
   "cell_type": "code",
   "execution_count": 6,
   "id": "f15802c1",
   "metadata": {},
   "outputs": [
    {
     "data": {
      "text/plain": [
       "2159081985408"
      ]
     },
     "execution_count": 6,
     "metadata": {},
     "output_type": "execute_result"
    }
   ],
   "source": [
    "id(a)"
   ]
  },
  {
   "cell_type": "code",
   "execution_count": 10,
   "id": "9c195da8",
   "metadata": {},
   "outputs": [],
   "source": [
    "a = [1,2,3] #리스트를 복사할 때\n",
    "b = a"
   ]
  },
  {
   "cell_type": "code",
   "execution_count": 11,
   "id": "26fdea9e",
   "metadata": {},
   "outputs": [
    {
     "data": {
      "text/plain": [
       "2159081200960"
      ]
     },
     "execution_count": 11,
     "metadata": {},
     "output_type": "execute_result"
    }
   ],
   "source": [
    "id(a)"
   ]
  },
  {
   "cell_type": "code",
   "execution_count": 12,
   "id": "51c79b23",
   "metadata": {},
   "outputs": [
    {
     "data": {
      "text/plain": [
       "2159081200960"
      ]
     },
     "execution_count": 12,
     "metadata": {},
     "output_type": "execute_result"
    }
   ],
   "source": [
    "id(b)"
   ]
  },
  {
   "cell_type": "code",
   "execution_count": 13,
   "id": "4dcd3561",
   "metadata": {},
   "outputs": [
    {
     "data": {
      "text/plain": [
       "True"
      ]
     },
     "execution_count": 13,
     "metadata": {},
     "output_type": "execute_result"
    }
   ],
   "source": [
    "a is b # a와 b가 가리키는 객체는 동일한가?"
   ]
  },
  {
   "cell_type": "code",
   "execution_count": 14,
   "id": "ed4a6b15",
   "metadata": {},
   "outputs": [],
   "source": [
    "a[1] = 4"
   ]
  },
  {
   "cell_type": "code",
   "execution_count": 15,
   "id": "f73cbab1",
   "metadata": {},
   "outputs": [
    {
     "data": {
      "text/plain": [
       "[1, 4, 3]"
      ]
     },
     "execution_count": 15,
     "metadata": {},
     "output_type": "execute_result"
    }
   ],
   "source": [
    "a"
   ]
  },
  {
   "cell_type": "code",
   "execution_count": 16,
   "id": "f188e1c7",
   "metadata": {},
   "outputs": [
    {
     "data": {
      "text/plain": [
       "[1, 4, 3]"
      ]
     },
     "execution_count": 16,
     "metadata": {},
     "output_type": "execute_result"
    }
   ],
   "source": [
    "b"
   ]
  },
  {
   "cell_type": "code",
   "execution_count": 17,
   "id": "1b70c955",
   "metadata": {},
   "outputs": [],
   "source": [
    "a = [1, 2, 3] # [:] 사용"
   ]
  },
  {
   "cell_type": "code",
   "execution_count": 19,
   "id": "f1de62fa",
   "metadata": {},
   "outputs": [],
   "source": [
    "b = a[:] # ←리스트 a의 처음 요소부터 끝 요소까지 슬라이싱"
   ]
  },
  {
   "cell_type": "code",
   "execution_count": 20,
   "id": "555d303f",
   "metadata": {},
   "outputs": [],
   "source": [
    "a[1] = 4"
   ]
  },
  {
   "cell_type": "code",
   "execution_count": 21,
   "id": "702ad9d6",
   "metadata": {},
   "outputs": [
    {
     "data": {
      "text/plain": [
       "[1, 4, 3]"
      ]
     },
     "execution_count": 21,
     "metadata": {},
     "output_type": "execute_result"
    }
   ],
   "source": [
    "a"
   ]
  },
  {
   "cell_type": "code",
   "execution_count": 22,
   "id": "5704d39b",
   "metadata": {},
   "outputs": [
    {
     "data": {
      "text/plain": [
       "[1, 2, 3]"
      ]
     },
     "execution_count": 22,
     "metadata": {},
     "output_type": "execute_result"
    }
   ],
   "source": [
    "b # 리스트 a에 값을 바꾸더라도 리스트 b에는 영향을 안끼침"
   ]
  },
  {
   "cell_type": "code",
   "execution_count": 23,
   "id": "f7ffd53b",
   "metadata": {},
   "outputs": [],
   "source": [
    "from copy import copy # copy 모듈 사용"
   ]
  },
  {
   "cell_type": "code",
   "execution_count": 24,
   "id": "44992e95",
   "metadata": {},
   "outputs": [],
   "source": [
    "a = [1, 2, 3]"
   ]
  },
  {
   "cell_type": "code",
   "execution_count": 26,
   "id": "1231e595",
   "metadata": {},
   "outputs": [],
   "source": [
    "b = copy(a) # 여기서 b = copy(a)는 b = a[:]와 동일"
   ]
  },
  {
   "cell_type": "code",
   "execution_count": 27,
   "id": "397b9344",
   "metadata": {},
   "outputs": [
    {
     "data": {
      "text/plain": [
       "[1, 2, 3]"
      ]
     },
     "execution_count": 27,
     "metadata": {},
     "output_type": "execute_result"
    }
   ],
   "source": [
    "a"
   ]
  },
  {
   "cell_type": "code",
   "execution_count": 28,
   "id": "cbc66aa1",
   "metadata": {},
   "outputs": [
    {
     "data": {
      "text/plain": [
       "[1, 2, 3]"
      ]
     },
     "execution_count": 28,
     "metadata": {},
     "output_type": "execute_result"
    }
   ],
   "source": [
    "b"
   ]
  },
  {
   "cell_type": "code",
   "execution_count": 29,
   "id": "db66c976",
   "metadata": {},
   "outputs": [
    {
     "data": {
      "text/plain": [
       "False"
      ]
     },
     "execution_count": 29,
     "metadata": {},
     "output_type": "execute_result"
    }
   ],
   "source": [
    "b is a # False를 돌려주므로 b와 a가 가리키는 객체는 서로 다르다는 것을 알 수 있다"
   ]
  },
  {
   "cell_type": "code",
   "execution_count": 31,
   "id": "65830b00",
   "metadata": {},
   "outputs": [],
   "source": [
    "a, b = ('python', 'life') # 변수를 만드는 여러가지 방법"
   ]
  },
  {
   "cell_type": "code",
   "execution_count": 32,
   "id": "2b533559",
   "metadata": {},
   "outputs": [],
   "source": [
    "(a, b) = 'python', 'life' # 튜플로 a, b값 대입"
   ]
  },
  {
   "cell_type": "code",
   "execution_count": 35,
   "id": "b46b7b7a",
   "metadata": {},
   "outputs": [],
   "source": [
    "[a,b] = ['python', 'life' ] # 리스트로 변수 만들기"
   ]
  },
  {
   "cell_type": "code",
   "execution_count": 37,
   "id": "e066b71a",
   "metadata": {},
   "outputs": [],
   "source": [
    "a = b = 'python' # 여러 개의 변수에 같은 값 대입"
   ]
  },
  {
   "cell_type": "code",
   "execution_count": 39,
   "id": "f9b61f68",
   "metadata": {},
   "outputs": [],
   "source": [
    "a = 3\n",
    "b = 5"
   ]
  },
  {
   "cell_type": "code",
   "execution_count": 40,
   "id": "57417c1f",
   "metadata": {},
   "outputs": [],
   "source": [
    "a, b = b, a # ←a와 b의 값을 바꿈"
   ]
  },
  {
   "cell_type": "code",
   "execution_count": 41,
   "id": "3474bc2c",
   "metadata": {},
   "outputs": [
    {
     "data": {
      "text/plain": [
       "5"
      ]
     },
     "execution_count": 41,
     "metadata": {},
     "output_type": "execute_result"
    }
   ],
   "source": [
    "a"
   ]
  },
  {
   "cell_type": "code",
   "execution_count": 43,
   "id": "3b51de42",
   "metadata": {},
   "outputs": [
    {
     "data": {
      "text/plain": [
       "3"
      ]
     },
     "execution_count": 43,
     "metadata": {},
     "output_type": "execute_result"
    }
   ],
   "source": [
    "b"
   ]
  },
  {
   "cell_type": "code",
   "execution_count": 47,
   "id": "1bca788b",
   "metadata": {},
   "outputs": [],
   "source": [
    "a = [1, 2, 3] #나 혼자 코딩 !"
   ]
  },
  {
   "cell_type": "code",
   "execution_count": 48,
   "id": "f638d74a",
   "metadata": {},
   "outputs": [],
   "source": [
    "b = [1, 2, 3]"
   ]
  },
  {
   "cell_type": "code",
   "execution_count": 49,
   "id": "f3267d1e",
   "metadata": {},
   "outputs": [
    {
     "data": {
      "text/plain": [
       "False"
      ]
     },
     "execution_count": 49,
     "metadata": {},
     "output_type": "execute_result"
    }
   ],
   "source": [
    "a is b"
   ]
  },
  {
   "cell_type": "code",
   "execution_count": 50,
   "id": "2904fe3f",
   "metadata": {},
   "outputs": [],
   "source": [
    "a = [1, 2, 3] # True가 나오려면?"
   ]
  },
  {
   "cell_type": "code",
   "execution_count": 54,
   "id": "0d4ca969",
   "metadata": {},
   "outputs": [],
   "source": [
    "b = a"
   ]
  },
  {
   "cell_type": "code",
   "execution_count": 55,
   "id": "c80b3d63",
   "metadata": {},
   "outputs": [
    {
     "data": {
      "text/plain": [
       "True"
      ]
     },
     "execution_count": 55,
     "metadata": {},
     "output_type": "execute_result"
    }
   ],
   "source": [
    "a is b"
   ]
  }
 ],
 "metadata": {
  "kernelspec": {
   "display_name": "Python 3 (ipykernel)",
   "language": "python",
   "name": "python3"
  },
  "language_info": {
   "codemirror_mode": {
    "name": "ipython",
    "version": 3
   },
   "file_extension": ".py",
   "mimetype": "text/x-python",
   "name": "python",
   "nbconvert_exporter": "python",
   "pygments_lexer": "ipython3",
   "version": "3.9.7"
  }
 },
 "nbformat": 4,
 "nbformat_minor": 5
}
